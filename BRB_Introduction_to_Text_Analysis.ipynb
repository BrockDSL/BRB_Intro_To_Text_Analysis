{
  "nbformat": 4,
  "nbformat_minor": 0,
  "metadata": {
    "colab": {
      "name": "BRB Introduction to Text Analysis",
      "provenance": [],
      "authorship_tag": "ABX9TyNCh36ERkLBxQf4jzssEINF",
      "include_colab_link": true
    },
    "kernelspec": {
      "name": "python3",
      "display_name": "Python 3"
    },
    "language_info": {
      "name": "python"
    }
  },
  "cells": [
    {
      "cell_type": "markdown",
      "metadata": {
        "id": "view-in-github",
        "colab_type": "text"
      },
      "source": [
        "<a href=\"https://colab.research.google.com/github/BrockDSL/BRB_Intro_To_Text_Analysis/blob/main/BRB_Introduction_to_Text_Analysis.ipynb\" target=\"_parent\"><img src=\"https://colab.research.google.com/assets/colab-badge.svg\" alt=\"Open In Colab\"/></a>"
      ]
    },
    {
      "cell_type": "markdown",
      "source": [
        "![dsl_logo.png](https://raw.githubusercontent.com/BrockDSL/BRB_Intro_To_Text_Analysis/main/dsl_logo.png)\n",
        "\n",
        "# Harvesting Social Media Data\n",
        "## Buidling Better Research Workshop Series\n",
        "\n",
        "This workshop will introduce you to the basics of the what/how of harvesting social media information.\n",
        "\n",
        "\n",
        "## How this notebook works\n",
        "\n",
        "This webpage is a Google Colab notebook and is comprised of different *cells*. Some are code cells that run Python snippets. To works through these cells simply click on the triangle _run_ button in each cell.\n",
        "\n",
        "## Save a copy \n",
        "\n",
        "To save a copy of this notebook so you can return to it later please go to **File > Save Copy in Drive**"
      ],
      "metadata": {
        "id": "AzUolZCMmz3h"
      }
    },
    {
      "cell_type": "code",
      "source": [
        "# This code cell will load up all the required pieces to run our notebook.\n",
        "# Once you click into this cell you'll see a triangle 'play' button appear\n",
        "# Click on that to start your session\n",
        "\n",
        "import pandas as pd\n",
        "import matplotlib.pyplot as plt\n",
        "%matplotlib inline\n",
        "pd.set_option('display.max_columns', None)\n",
        "\n",
        "print(\"Ready to proceed!\")"
      ],
      "metadata": {
        "id": "0gaZdVBJlQnZ"
      },
      "execution_count": null,
      "outputs": []
    }
  ]
}